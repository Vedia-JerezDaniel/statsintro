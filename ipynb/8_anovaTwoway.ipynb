{
 "cells": [
  {
   "cell_type": "markdown",
   "source": [
    "# Two-way ANOVA\n",
    "\n",
    "ANOVA with interaction: \n",
    "\n",
    "*Measurement of fetal head circumference, by four observers in three fetuses, from a study investigating the\n",
    "reproducibility of ultrasonic fetal head circumference data.*\n",
    "\n",
    "Author:  Thomas Haslwanter, Date:    Feb-2017"
   ],
   "metadata": {
    "slideshow": {
     "slide_type": "slide"
    }
   }
  },
  {
   "cell_type": "code",
   "execution_count": 1,
   "source": [
    "import numpy as np\r\n",
    "import pandas as pd\r\n",
    "import urllib\r\n",
    "from statsmodels.formula.api import ols\r\n",
    "from statsmodels.stats.anova import anova_lm"
   ],
   "outputs": [],
   "metadata": {
    "collapsed": false,
    "jupyter": {
     "outputs_hidden": false
    },
    "slideshow": {
     "slide_type": "fragment"
    }
   }
  },
  {
   "cell_type": "markdown",
   "source": [
    "## Get and format the data"
   ],
   "metadata": {
    "slideshow": {
     "slide_type": "subslide"
    }
   }
  },
  {
   "cell_type": "code",
   "execution_count": 16,
   "source": [
    "inFile = 'Data/data_altman/altman_12_6.txt'\r\n",
    "# url_base = 'https://raw.githubusercontent.com/thomas-haslwanter/statsintro_python/master/ipynb/Data/data_altman/'\r\n",
    "# url = url_base + inFile\r\n",
    "# data = np.genfromtxt(urllib.request.urlopen(url), delimiter=',')\r\n",
    "\r\n",
    "# Bring them in dataframe-format\r\n",
    "data = pd.read_csv(inFile, sep=',', header=None)\r\n",
    "df = data.rename(columns={0:'hs', 1:'fetus', 2:'observer'})\r\n"
   ],
   "outputs": [],
   "metadata": {
    "collapsed": false,
    "jupyter": {
     "outputs_hidden": false
    },
    "slideshow": {
     "slide_type": "fragment"
    }
   }
  },
  {
   "cell_type": "markdown",
   "source": [
    "## ANOVA with interaction"
   ],
   "metadata": {
    "slideshow": {
     "slide_type": "subslide"
    }
   }
  },
  {
   "cell_type": "code",
   "execution_count": 20,
   "source": [
    "formula = 'hs ~ C(fetus) + C(observer) + C(fetus)*C(observer)'\r\n",
    "lm = ols(formula, df).fit()\r\n",
    "print(anova_lm(lm))"
   ],
   "outputs": [
    {
     "output_type": "stream",
     "name": "stdout",
     "text": [
      "                        df      sum_sq     mean_sq            F        PR(>F)\n",
      "C(fetus)               2.0  324.008889  162.004444  2113.101449  1.051039e-27\n",
      "C(observer)            3.0    1.198611    0.399537     5.211353  6.497055e-03\n",
      "C(fetus):C(observer)   6.0    0.562222    0.093704     1.222222  3.295509e-01\n",
      "Residual              24.0    1.840000    0.076667          NaN           NaN\n"
     ]
    }
   ],
   "metadata": {
    "collapsed": false,
    "jupyter": {
     "outputs_hidden": false
    },
    "slideshow": {
     "slide_type": "fragment"
    }
   }
  },
  {
   "cell_type": "code",
   "execution_count": null,
   "source": [],
   "outputs": [],
   "metadata": {
    "collapsed": true,
    "jupyter": {
     "outputs_hidden": true
    }
   }
  }
 ],
 "metadata": {
  "celltoolbar": "Slideshow",
  "kernelspec": {
   "name": "python3",
   "display_name": "Python 3.8.12 64-bit ('fm': conda)"
  },
  "language_info": {
   "codemirror_mode": {
    "name": "ipython",
    "version": 3
   },
   "file_extension": ".py",
   "mimetype": "text/x-python",
   "name": "python",
   "nbconvert_exporter": "python",
   "pygments_lexer": "ipython3",
   "version": "3.8.12"
  },
  "interpreter": {
   "hash": "de4fd515338f1297991bc9397241bfb582ce234da23dc5e2a80ce29332a80fcd"
  }
 },
 "nbformat": 4,
 "nbformat_minor": 4
}