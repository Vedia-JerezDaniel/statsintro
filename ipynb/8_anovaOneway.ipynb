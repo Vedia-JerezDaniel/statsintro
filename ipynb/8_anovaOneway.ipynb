{
 "cells": [
  {
   "cell_type": "markdown",
   "source": [
    "# One-way ANOVA\n",
    "\n",
    "For the one-way ANOVA, you can use either the function in \"scipy.stats\". Alternatively, you can use the \"statsmodel\" tools: they provide more, and nicer formatted, information.\n",
    "\n",
    "Author:  Thomas Haslwanter, Date:    April-2020"
   ],
   "metadata": {
    "slideshow": {
     "slide_type": "slide"
    }
   }
  },
  {
   "cell_type": "code",
   "execution_count": 1,
   "source": [
    "import numpy as np\r\n",
    "import matplotlib.pyplot as plt\r\n",
    "import scipy.stats as stats\r\n",
    "import pandas as pd\r\n",
    "import urllib\r\n",
    "from statsmodels.formula.api import ols\r\n",
    "from statsmodels.stats.anova import anova_lm\r\n",
    "import seaborn as sns"
   ],
   "outputs": [],
   "metadata": {
    "collapsed": false,
    "jupyter": {
     "outputs_hidden": false
    },
    "slideshow": {
     "slide_type": "fragment"
    }
   }
  },
  {
   "cell_type": "markdown",
   "source": [
    "# The importance of the variance"
   ],
   "metadata": {
    "slideshow": {
     "slide_type": "slide"
    }
   }
  },
  {
   "cell_type": "code",
   "execution_count": 9,
   "source": [
    "centers = [5.15, 5.3, 4.95]\r\n",
    "std1 = 0.1\r\n",
    "colors = 'brg'\r\n",
    "\r\n",
    "data1 = []\r\n",
    "for i in range(3):\r\n",
    "    data1.append(stats.norm(centers[i], std1).rvs(100))\r\n",
    "    plt.plot(np.arange(len(data1[i]))+i*len(data1[0]), data1[i], '.', color=colors[i])"
   ],
   "outputs": [
    {
     "output_type": "display_data",
     "data": {
      "image/png": "[encoded data removed]",
      "text/plain": [
       "<Figure size 432x288 with 1 Axes>"
      ]
     },
     "metadata": {
      "needs_background": "light"
     }
    }
   ],
   "metadata": {
    "collapsed": false,
    "jupyter": {
     "outputs_hidden": false
    },
    "slideshow": {
     "slide_type": "fragment"
    }
   }
  },
  {
   "cell_type": "code",
   "execution_count": 10,
   "source": [
    "std2 = 1.5\r\n",
    "data2 = []\r\n",
    "for ii in range(3):\r\n",
    "    data2.append(stats.norm(centers[ii], std2).rvs(100))\r\n",
    "    plt.plot(np.arange(len(data1[ii]))+ii*len(data2[0]), data2[ii], '.', color=colors[ii])"
   ],
   "outputs": [
    {
     "output_type": "display_data",
     "data": {
      "image/png": "[encoded data removed]",
      "text/plain": [
       "<Figure size 432x288 with 1 Axes>"
      ]
     },
     "metadata": {
      "needs_background": "light"
     }
    }
   ],
   "metadata": {
    "collapsed": false,
    "jupyter": {
     "outputs_hidden": false
    },
    "slideshow": {
     "slide_type": "subslide"
    }
   }
  },
  {
   "cell_type": "code",
   "execution_count": 14,
   "source": [
    "data2[0]"
   ],
   "outputs": [
    {
     "output_type": "execute_result",
     "data": {
      "text/plain": [
       "array([5.60559088, 3.45114533, 7.56421499, 2.41138398, 3.86603527,\n",
       "       6.60341667, 6.37347657, 2.54571645, 5.68775057, 1.90213572,\n",
       "       3.11893749, 7.58611257, 3.90593273, 6.38075956, 7.66752903,\n",
       "       5.44993036, 8.65674112, 2.90793725, 1.83031956, 4.88027063,\n",
       "       5.80348257, 5.38311278, 3.58467567, 4.2429884 , 4.11913659,\n",
       "       5.49563563, 3.32536367, 6.32001159, 5.28056208, 6.53883452,\n",
       "       4.76071119, 3.96708769, 4.49819095, 7.13986976, 5.17416784,\n",
       "       5.24110762, 3.72152153, 4.0473055 , 7.29366576, 6.40521798,\n",
       "       5.48535398, 4.03155021, 3.3193545 , 4.99673588, 5.44883665,\n",
       "       3.12406138, 4.81615872, 6.83978433, 4.06371957, 3.01761125,\n",
       "       5.00386711, 7.05459226, 3.39019824, 6.24314802, 4.74013128,\n",
       "       4.98499284, 2.82881588, 2.84985509, 7.25251582, 4.28140657,\n",
       "       4.38161679, 4.98924404, 5.37505409, 5.25863328, 4.9319505 ,\n",
       "       5.69851909, 6.226367  , 7.95207765, 4.84980798, 7.50635307,\n",
       "       3.70309846, 5.41109201, 4.80019558, 5.85447092, 5.55436161,\n",
       "       6.32580203, 4.93692475, 5.20420173, 5.2992201 , 6.74469762,\n",
       "       5.27424224, 3.37738392, 3.95679237, 7.84853334, 3.11356912,\n",
       "       6.51597837, 5.3201001 , 4.3717948 , 4.74834206, 7.85233511,\n",
       "       4.87813993, 5.76908261, 6.4584608 , 4.10128235, 4.52851193,\n",
       "       7.52873808, 5.3965331 , 6.19161168, 4.79669634, 5.78248527])"
      ]
     },
     "metadata": {},
     "execution_count": 14
    }
   ],
   "metadata": {}
  },
  {
   "cell_type": "markdown",
   "source": [
    "**Note:** In both cases the means have the same difference, but the variance is much larger in data2!"
   ],
   "metadata": {
    "slideshow": {
     "slide_type": "fragment"
    }
   }
  },
  {
   "cell_type": "markdown",
   "source": [
    "## ANOVA with Sample Data"
   ],
   "metadata": {
    "slideshow": {
     "slide_type": "slide"
    }
   }
  },
  {
   "cell_type": "markdown",
   "source": [
    "### Get and sort sample data\n",
    "\n",
    "*Twenty-two patients undergoing cardiac bypass surgery were randomized to one of three ventilation groups:*\n",
    "    \n",
    "  - *Group I: Patients received 50% nitrous oxide and 50% oxygen mixture continuously for 24 h.*\n",
    "  - *Group II: Patients received a 50% nitrous oxide and 50% oxygen mixture only dirng the operation.*\n",
    "  - *Group III: Patients received no nitrous oxide but received 35-50% oxygen for 24 h.*\n",
    "    \n",
    "*The data show red cell folate levels for the three groups after 24h' ventilation.*"
   ],
   "metadata": {
    "slideshow": {
     "slide_type": "fragment"
    }
   }
  },
  {
   "cell_type": "code",
   "execution_count": null,
   "source": [
    "# Get the data\r\n",
    "inFile = 'Data//data_altman//altman_910.txt'\r\n",
    "\r\n",
    "data = pd.read_csv(inFile, sep=\",\", header=None)\r\n",
    "data\r\n",
    "\r\n"
   ],
   "outputs": [],
   "metadata": {
    "collapsed": false,
    "jupyter": {
     "outputs_hidden": false
    },
    "slideshow": {
     "slide_type": "fragment"
    }
   }
  },
  {
   "cell_type": "markdown",
   "source": [
    "### Levene-test\n",
    "A Levene-test and/or a normality test should be made before applying a oneway ANOVA."
   ],
   "metadata": {
    "slideshow": {
     "slide_type": "subslide"
    }
   }
  },
  {
   "cell_type": "code",
   "execution_count": 65,
   "source": [
    "# Sort them into groups, according to column 1\r\n",
    "group1 = data[data.iloc[:,1]==1].values[:,0]\r\n",
    "group2 = data[data.iloc[:,1]==2].values[:,0]\r\n",
    "group3 = data[data.iloc[:,1]==3].values[:,0]"
   ],
   "outputs": [],
   "metadata": {}
  },
  {
   "cell_type": "code",
   "execution_count": 68,
   "source": [
    "# check if the variances are equal with the \"Levene\"-test\r\n",
    "(W,p) = stats.levene(group1, group2, group3)\r\n",
    "\r\n",
    "if p<0.05:\r\n",
    "    print('Warning: the p-value of the Levene test is <0.05: p={0}'.format(p))\r\n",
    "\r\n",
    "# estadística inferencial utilizada para evaluar la igualdad de las varianzas, si p<0.05 un grupo no es igual"
   ],
   "outputs": [
    {
     "output_type": "stream",
     "name": "stdout",
     "text": [
      "Warning: the p-value of the Levene test is <0.05: p=0.045846812634186246\n"
     ]
    }
   ],
   "metadata": {
    "collapsed": false,
    "jupyter": {
     "outputs_hidden": false
    },
    "slideshow": {
     "slide_type": "fragment"
    }
   }
  },
  {
   "cell_type": "markdown",
   "source": [
    "### One-way ANOVA"
   ],
   "metadata": {
    "slideshow": {
     "slide_type": "subslide"
    }
   }
  },
  {
   "cell_type": "code",
   "execution_count": 67,
   "source": [
    "F_statistic, pVal = stats.f_oneway(group1, group2, group3)\r\n",
    "\r\n",
    "print('The results from the one-way ANOVA, with the data from Altman 910: F={0:.1f}, p={1:.5f}'.format(F_statistic, pVal))\r\n",
    "if pVal < 0.05:\r\n",
    "    print('One of the groups is significantly different.')"
   ],
   "outputs": [
    {
     "output_type": "stream",
     "name": "stdout",
     "text": [
      "The results from the one-way ANOVA, with the data from Altman 910: F=3.7, p=0.04359\n",
      "One of the groups is significantly different.\n"
     ]
    }
   ],
   "metadata": {
    "collapsed": false,
    "jupyter": {
     "outputs_hidden": false
    },
    "slideshow": {
     "slide_type": "fragment"
    }
   }
  },
  {
   "cell_type": "markdown",
   "source": [
    "## Elegant alternative implementation, with pandas & statsmodels"
   ],
   "metadata": {
    "slideshow": {
     "slide_type": "subslide"
    }
   }
  },
  {
   "cell_type": "code",
   "execution_count": 97,
   "source": [
    "# df = pd.DataFrame(data, columns=['value', 'treatment'])\r\n",
    "df = data.rename(columns={0: 'value', 1: 'treatment'})\r\n",
    "# the \"C\" indicates categorical data\r\n",
    "model = ols('value ~ C(treatment)', df).fit()\r\n",
    "\r\n",
    "print(anova_lm(model))"
   ],
   "outputs": [
    {
     "output_type": "stream",
     "name": "stdout",
     "text": [
      "                df        sum_sq      mean_sq         F    PR(>F)\n",
      "C(treatment)   2.0  15515.766414  7757.883207  3.711336  0.043589\n",
      "Residual      19.0  39716.097222  2090.320906       NaN       NaN\n"
     ]
    }
   ],
   "metadata": {
    "collapsed": false,
    "jupyter": {
     "outputs_hidden": false
    },
    "slideshow": {
     "slide_type": "fragment"
    }
   }
  },
  {
   "cell_type": "code",
   "execution_count": null,
   "source": [],
   "outputs": [],
   "metadata": {}
  }
 ],
 "metadata": {
  "celltoolbar": "Slideshow",
  "kernelspec": {
   "name": "python3",
   "display_name": "Python 3.8.12 64-bit ('fm': conda)"
  },
  "language_info": {
   "codemirror_mode": {
    "name": "ipython",
    "version": 3
   },
   "file_extension": ".py",
   "mimetype": "text/x-python",
   "name": "python",
   "nbconvert_exporter": "python",
   "pygments_lexer": "ipython3",
   "version": "3.8.12"
  },
  "interpreter": {
   "hash": "de4fd515338f1297991bc9397241bfb582ce234da23dc5e2a80ce29332a80fcd"
  }
 },
 "nbformat": 4,
 "nbformat_minor": 4
}